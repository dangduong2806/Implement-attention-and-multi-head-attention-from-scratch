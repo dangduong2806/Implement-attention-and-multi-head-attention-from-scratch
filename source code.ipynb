{
 "cells": [
  {
   "cell_type": "code",
   "execution_count": 1,
   "id": "715e5aee",
   "metadata": {},
   "outputs": [],
   "source": [
    "import re\n",
    "# 1 đoạn text được generate bởi chat-gpt\n",
    "text = \"I have always been curious about the way people use language to share ideas and emotions. When I first learned about Natural Language Processing, or NLP, I immediately felt excited. I love how this field allows machines to work with human language, \" \\\n",
    "\"making communication between humans and technology more natural.\"\n",
    "# Tách theo dấu cách và dấu phẩy\n",
    "parts = re.split(r'[ ,]+',text)\n",
    "# Tạo các kí tự unique trong text\n",
    "chars = sorted(list(set(parts)))\n",
    "# Tạo tập vocabulary\n",
    "vocab_size = len(chars)\n",
    "vocab = {ch: i for i, ch in enumerate(chars)}\n",
    "i2ch = {i:ch for ch, i in vocab.items()}"
   ]
  },
  {
   "cell_type": "code",
   "execution_count": 2,
   "id": "42056981",
   "metadata": {},
   "outputs": [
    {
     "name": "stdout",
     "output_type": "stream",
     "text": [
      "43\n",
      "{'I': 0, 'Language': 1, 'NLP': 2, 'Natural': 3, 'Processing': 4, 'When': 5, 'about': 6, 'allows': 7, 'always': 8, 'and': 9, 'been': 10, 'between': 11, 'communication': 12, 'curious': 13, 'emotions.': 14, 'excited.': 15, 'felt': 16, 'field': 17, 'first': 18, 'have': 19, 'how': 20, 'human': 21, 'humans': 22, 'ideas': 23, 'immediately': 24, 'language': 25, 'learned': 26, 'love': 27, 'machines': 28, 'making': 29, 'more': 30, 'natural.': 31, 'or': 32, 'people': 33, 'share': 34, 'technology': 35, 'the': 36, 'this': 37, 'to': 38, 'use': 39, 'way': 40, 'with': 41, 'work': 42}\n"
     ]
    }
   ],
   "source": [
    "print(len(vocab))\n",
    "print(vocab)"
   ]
  },
  {
   "cell_type": "markdown",
   "id": "b713c984",
   "metadata": {},
   "source": [
    "Scaled dot product attention"
   ]
  },
  {
   "cell_type": "code",
   "execution_count": 3,
   "id": "eb597eb9",
   "metadata": {},
   "outputs": [],
   "source": [
    "import numpy as np\n",
    "def softmax(x):\n",
    "    # softmax theo hàng\n",
    "    e_x = np.exp(x - np.max(x, axis=-1, keepdims=True))\n",
    "    return e_x/np.sum(e_x, axis=-1, keepdims=True)\n",
    "def scaled_dot_product_attention(Q, K, V):\n",
    "    # Q: (n, d_k) - n query vectors\n",
    "    # K: (m, d_k) - m key vectors\n",
    "    # V: (m, d_v) - m value vectors\n",
    "    # Lấy ra d_k cho bước tính căn bậc 2\n",
    "    d_k = Q.shape[1]\n",
    "    # Tính score\n",
    "    scores = np.matmul(Q, K.T) / np.sqrt(d_k)\n",
    "    # Tính trọng số attention\n",
    "    weights = softmax(scores)\n",
    "    # Tổ hợp tuyến tính với V\n",
    "    output = np.matmul(weights, V)\n",
    "    return output, weights\n",
    "\n"
   ]
  },
  {
   "cell_type": "code",
   "execution_count": 4,
   "id": "1a35c59d",
   "metadata": {},
   "outputs": [
    {
     "data": {
      "text/plain": [
       "2"
      ]
     },
     "execution_count": 4,
     "metadata": {},
     "output_type": "execute_result"
    }
   ],
   "source": [
    "q = np.random.randn(3, 2)\n",
    "q.shape\n",
    "q.shape[1]"
   ]
  },
  {
   "cell_type": "code",
   "execution_count": 5,
   "id": "d07e9c34",
   "metadata": {},
   "outputs": [
    {
     "name": "stdout",
     "output_type": "stream",
     "text": [
      "matrix1:\n",
      "[[ 1.23670313 -0.63012639]\n",
      " [ 0.61493948 -1.32804036]\n",
      " [ 0.18802834  0.24452649]]\n",
      "matrix2:\n",
      "[[ 1.90903044 -0.05973812 -0.59936344 -1.54066961]\n",
      " [-1.29898438  1.63779264  0.56489028  1.35444008]]\n",
      "matrix3:\n",
      "[[ 3.17942825 -1.10589469 -1.09718692 -2.75881937]\n",
      " [ 2.89904188 -2.21179007 -1.11876934 -2.74616967]\n",
      " [ 0.04131573  0.38925123  0.02543333  0.04150694]]\n"
     ]
    }
   ],
   "source": [
    "matrix1 = np.random.randn(3,2)\n",
    "matrix2 = np.random.randn(2,4)\n",
    "matrix3 = np.matmul(matrix1, matrix2)\n",
    "print(f\"matrix1:\\n{matrix1}\\nmatrix2:\\n{matrix2}\\nmatrix3:\\n{matrix3}\")"
   ]
  },
  {
   "cell_type": "markdown",
   "id": "f0bee414",
   "metadata": {},
   "source": [
    "Xử lý input"
   ]
  },
  {
   "cell_type": "code",
   "execution_count": 6,
   "id": "b2c2a96c",
   "metadata": {},
   "outputs": [],
   "source": [
    "input = \"I love NLP\"\n",
    "# Tạo các tokens\n",
    "tokens = input.split()\n",
    "# kích thước embedding\n",
    "d_model = 4\n",
    "# Tạo embedding cho tất cả các từ trong vocab\n",
    "embedding_matrix = np.random.randn(len(vocab), d_model)\n",
    "# Lấy embedding của các từ trong input\n",
    "X = np.array([embedding_matrix[vocab[token]] for token in tokens])"
   ]
  },
  {
   "cell_type": "code",
   "execution_count": 7,
   "id": "fa4b078b",
   "metadata": {},
   "outputs": [
    {
     "name": "stdout",
     "output_type": "stream",
     "text": [
      "Các tokens từ input:['I', 'love', 'NLP']\n",
      "Ma trận embeddings của input:\n",
      "[[-0.28414297  0.5105938  -1.28003813  0.1831562 ]\n",
      " [-1.18198904  0.16371034  0.81165581  1.72332232]\n",
      " [ 0.45015997  0.14041349  1.73605686  0.17712048]]\n",
      "\n",
      "Ma trận embeddings của vocab:\n",
      "[[-0.28414297  0.5105938  -1.28003813  0.1831562 ]\n",
      " [ 0.81911202  0.36481029  0.11954116  0.4827179 ]\n",
      " [ 0.45015997  0.14041349  1.73605686  0.17712048]\n",
      " [ 1.68602878  0.44443076  0.26031169  0.95772398]\n",
      " [ 1.60807753  0.67085487 -0.80519302  2.21333135]\n",
      " [ 1.10374902  0.94110533 -0.24039937 -0.85843129]\n",
      " [-0.94640359 -0.02819815  1.01729827  1.40293191]\n",
      " [-0.99254509  0.65798832  1.67795019 -0.69223624]\n",
      " [-0.48874065  0.76557697 -0.96661164  0.25306021]\n",
      " [ 0.62797331  0.5195788   0.60988437  0.40153634]\n",
      " [ 0.58307585 -0.41930423  0.32540663 -0.05718785]\n",
      " [-0.2766526  -0.51010248 -0.43140118  1.08323794]\n",
      " [-0.30534275 -0.94009895  0.06513127 -0.46292539]\n",
      " [ 1.35521774  0.24624491  0.41415694  1.24133455]\n",
      " [ 0.44285034 -0.13272086 -0.98113956 -1.06790913]\n",
      " [-0.02987153  0.83164951 -0.68146621 -0.46255275]\n",
      " [-0.55454843  0.13137387 -0.37993179  0.80737419]\n",
      " [-1.72866522  0.04304854 -0.28905335  0.1677869 ]\n",
      " [ 0.49229961  1.77281231  0.12451668 -1.55334604]\n",
      " [-0.39604639  1.6709371   0.15452002 -1.50018455]\n",
      " [ 0.56114007  0.31681647  3.45747976  1.0320718 ]\n",
      " [-0.80660552  1.89520513  1.86633574  0.98165682]\n",
      " [ 1.03805825 -0.92336889  1.2094033   0.48028893]\n",
      " [-1.11290821 -0.09753449 -1.27385641  0.14882205]\n",
      " [-1.09861197 -0.43721575 -0.57425945  0.60585473]\n",
      " [ 0.08335807  0.12583623  1.06005912  1.72827229]\n",
      " [ 0.0551884  -0.72359727 -1.70595528  1.21146606]\n",
      " [-1.18198904  0.16371034  0.81165581  1.72332232]\n",
      " [ 0.57278058 -0.44469394  1.59431773  0.8259344 ]\n",
      " [-1.50170284 -0.07063356  1.26038135 -1.04029999]\n",
      " [-0.56519743  0.39911102 -0.46148728 -2.5765377 ]\n",
      " [ 1.38592007  1.03502458 -0.9437988   0.42016454]\n",
      " [-0.40618094 -0.88210212  0.08181001 -0.4473326 ]\n",
      " [ 1.04215344  1.52744722  1.81289738 -0.89880572]\n",
      " [-0.38047709  0.56301622 -2.56350002  0.39730009]\n",
      " [-0.81689562 -1.99006698 -1.30554876 -1.13899565]\n",
      " [-0.15788524 -0.32882149  1.22356912 -0.34937307]\n",
      " [ 0.46869336 -0.12692606 -1.07737754 -1.00078812]\n",
      " [-0.03544461 -0.12476586 -0.8811557  -0.33353597]\n",
      " [-0.0757436   1.32695235  2.00454313 -1.74207013]\n",
      " [-0.65811261 -0.80082396  1.2288313  -1.55714892]\n",
      " [-0.84533691  1.17284269 -0.6238234  -0.74917583]\n",
      " [-1.01033889  0.83980076  0.67099674 -1.08359268]]\n"
     ]
    }
   ],
   "source": [
    "print(f\"Các tokens từ input:{tokens}\")\n",
    "print(f\"Ma trận embeddings của input:\\n{X}\\n\")\n",
    "print(f\"Ma trận embeddings của vocab:\\n{embedding_matrix}\")"
   ]
  },
  {
   "cell_type": "code",
   "execution_count": 8,
   "id": "6989736c",
   "metadata": {},
   "outputs": [],
   "source": [
    "# Khởi tạo 3 ma trận query, key và value\n",
    "W_Q = np.random.randn(d_model, d_model)\n",
    "W_K = np.random.randn(d_model, d_model)\n",
    "W_V = np.random.randn(d_model, d_model)\n",
    "Q = np.matmul(X, W_Q)\n",
    "K = np.matmul(X, W_K)\n",
    "V = np.matmul(X, W_V)"
   ]
  },
  {
   "cell_type": "code",
   "execution_count": 9,
   "id": "9964fd6c",
   "metadata": {},
   "outputs": [
    {
     "name": "stdout",
     "output_type": "stream",
     "text": [
      "Ma trận query Q:\n",
      "[[-1.33012562  1.74909821  4.80124788  1.14463139]\n",
      " [ 1.68870173  0.72124072 -0.05435431 -0.9269872 ]\n",
      " [ 1.57890416 -0.95539947 -5.61930671 -1.25690407]]\n",
      "Ma trận key K:\n",
      "[[-1.31754222 -1.58047639 -0.23005138  0.21123925]\n",
      " [ 4.56486092 -0.89278645 -0.55442181 -3.3704424 ]\n",
      " [ 2.3116382   2.25270999 -0.60917664 -1.87507933]]\n",
      "Ma trận value V:\n",
      "[[-1.84821711  0.16026191 -0.03048012  0.98777685]\n",
      " [-0.47927684 -2.13030977  1.36258939 -0.04069385]\n",
      " [ 2.30036403 -0.40444128  0.28837901 -1.9227005 ]]\n"
     ]
    }
   ],
   "source": [
    "print(f\"Ma trận query Q:\\n{Q}\")\n",
    "print(f\"Ma trận key K:\\n{K}\")\n",
    "print(f\"Ma trận value V:\\n{V}\")"
   ]
  },
  {
   "cell_type": "code",
   "execution_count": 10,
   "id": "cec50518",
   "metadata": {},
   "outputs": [
    {
     "name": "stdout",
     "output_type": "stream",
     "text": [
      "Ma trận embeddings mới của từng từ biểu diễn thêm ngữ cảnh:\n",
      "[[-0.86159299  0.02250952  0.04746528  0.29548939]\n",
      " [ 0.04311447 -1.80335058  1.15911143 -0.39430405]\n",
      " [-0.43326927 -2.09999847  1.34374124 -0.07178765]]\n",
      "Ma trận trọng số (softmax):\n",
      "[[7.61078281e-01 1.64122553e-03 2.37280493e-01]\n",
      " [8.30559088e-04 8.10825581e-01 1.88343860e-01]\n",
      " [5.55754677e-04 9.82618918e-01 1.68253274e-02]]\n"
     ]
    }
   ],
   "source": [
    "output, attention_weights = scaled_dot_product_attention(Q, K, V)\n",
    "print(f\"Ma trận embeddings mới của từng từ biểu diễn thêm ngữ cảnh:\\n{output}\")\n",
    "print(f\"Ma trận trọng số (softmax):\\n{attention_weights}\")"
   ]
  },
  {
   "cell_type": "markdown",
   "id": "b12e711c",
   "metadata": {},
   "source": [
    "Từ ma trận trọng số (softmax): \n",
    "\n",
    "    \"I\" chú ý nhiều nhất vào \"NLP\"\n",
    "\n",
    "    \"love\" chú ý nhiều nhất vào \"I\"\n",
    "\n",
    "    \"NLP\" chú ý nhiều nhất vào \"I\""
   ]
  },
  {
   "cell_type": "markdown",
   "id": "c74780ee",
   "metadata": {},
   "source": [
    "Cài đặt Multi Head Attention"
   ]
  },
  {
   "cell_type": "code",
   "execution_count": null,
   "id": "7976ed19",
   "metadata": {},
   "outputs": [
    {
     "ename": "SyntaxError",
     "evalue": "expected ':' (1866982784.py, line 1)",
     "output_type": "error",
     "traceback": [
      "\u001b[1;36m  Cell \u001b[1;32mIn[11], line 1\u001b[1;36m\u001b[0m\n\u001b[1;33m    class M\u001b[0m\n\u001b[1;37m           ^\u001b[0m\n\u001b[1;31mSyntaxError\u001b[0m\u001b[1;31m:\u001b[0m expected ':'\n"
     ]
    }
   ],
   "source": [
    "class MultiHeadAttention:\n",
    "    def __init__(self, d_model, num_heads):\n",
    "        # d_model phải chia hết cho num_heads\n",
    "        assert d_model % num_heads == 0\n",
    "        self.d_model = d_model\n",
    "        self.num_heads = num_heads\n",
    "        self.d_k = d_model // num_heads\n",
    "        # Khởi tạo các ma trận trọng số\n",
    "        self.W_Q = np.random.randn(d_model, d_model)\n",
    "        self.W_K = np.random.randn(d_model, d_model)\n",
    "        self.W_V = np.random.randn(d_model, d_model)\n",
    "        # Ma trận trọng số được sử dụng cuối cùng\n",
    "        self.W_O = np.random.randn(d_model, d_model)\n",
    "    def split_heads(self, x):\n",
    "        seq_len, d_model = x.shape\n",
    "        x = x.reshape(seq_len, self.num_heads, self.d_k)\n",
    "        return x.transpose(1,0,2)\n",
    "    def combine_heads(self, x):\n",
    "        num_heads, seq_len, d_k = x.shape\n",
    "        x = x.transpose(1, 0, 2).reshape(seq_len, self.d_model)\n",
    "        return X\n",
    "\n",
    "    def forward(self, Q, K, V):"
   ]
  }
 ],
 "metadata": {
  "kernelspec": {
   "display_name": "duong_kernel_2",
   "language": "python",
   "name": "duong_kernel_2"
  },
  "language_info": {
   "codemirror_mode": {
    "name": "ipython",
    "version": 3
   },
   "file_extension": ".py",
   "mimetype": "text/x-python",
   "name": "python",
   "nbconvert_exporter": "python",
   "pygments_lexer": "ipython3",
   "version": "3.10.0"
  }
 },
 "nbformat": 4,
 "nbformat_minor": 5
}
