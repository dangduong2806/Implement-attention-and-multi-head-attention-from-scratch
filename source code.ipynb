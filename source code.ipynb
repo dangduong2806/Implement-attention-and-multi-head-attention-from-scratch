{
 "cells": [
  {
   "cell_type": "code",
   "execution_count": 16,
   "id": "715e5aee",
   "metadata": {},
   "outputs": [],
   "source": [
    "import re\n",
    "# 1 đoạn text được generate bởi chat-gpt\n",
    "text = \"I have always been curious about the way people use language to share ideas and emotions. When I first learned about Natural Language Processing, or NLP, I immediately felt excited. I love how this field allows machines to work with human language, \" \\\n",
    "\"making communication between humans and technology more natural.\"\n",
    "# Tách theo dấu cách và dấu phẩy\n",
    "parts = re.split(r'[ ,]+',text)\n",
    "# Tạo các kí tự unique trong text\n",
    "chars = sorted(list(set(parts)))\n",
    "# Tạo tập vocabulary\n",
    "vocab_size = len(chars)\n",
    "vocab = {ch: i for i, ch in enumerate(chars)}\n",
    "i2ch = {i:ch for ch, i in vocab.items()}"
   ]
  },
  {
   "cell_type": "code",
   "execution_count": 17,
   "id": "42056981",
   "metadata": {},
   "outputs": [
    {
     "name": "stdout",
     "output_type": "stream",
     "text": [
      "43\n",
      "{'I': 0, 'Language': 1, 'NLP': 2, 'Natural': 3, 'Processing': 4, 'When': 5, 'about': 6, 'allows': 7, 'always': 8, 'and': 9, 'been': 10, 'between': 11, 'communication': 12, 'curious': 13, 'emotions.': 14, 'excited.': 15, 'felt': 16, 'field': 17, 'first': 18, 'have': 19, 'how': 20, 'human': 21, 'humans': 22, 'ideas': 23, 'immediately': 24, 'language': 25, 'learned': 26, 'love': 27, 'machines': 28, 'making': 29, 'more': 30, 'natural.': 31, 'or': 32, 'people': 33, 'share': 34, 'technology': 35, 'the': 36, 'this': 37, 'to': 38, 'use': 39, 'way': 40, 'with': 41, 'work': 42}\n"
     ]
    }
   ],
   "source": [
    "print(len(vocab))\n",
    "print(vocab)"
   ]
  },
  {
   "cell_type": "markdown",
   "id": "b713c984",
   "metadata": {},
   "source": [
    "Scaled dot product attention"
   ]
  },
  {
   "cell_type": "code",
   "execution_count": null,
   "id": "eb597eb9",
   "metadata": {},
   "outputs": [],
   "source": [
    "import numpy as np\n",
    "def softmax(x):\n",
    "    # softmax theo hàng\n",
    "    e_x = np.exp(x - np.max(x, axis=-1, keepdims=True))\n",
    "    return e_x/np.sum(e_x, axis=-1, keepdims=True)\n",
    "def scaled_dot_product_attention(Q, K, V):\n",
    "    # Q: (n, d_k) - n query vectors\n",
    "    # K: (m, d_k) - m key vectors\n",
    "    # V: (m, d_v) - m value vectors\n",
    "    # Lấy ra d_k cho bước tính căn bậc 2\n",
    "    d_k = Q.shape[1]\n",
    "    # Tính score\n",
    "    scores = np.matmul(Q, K.T) / np.sqrt(d_k)\n",
    "    # Tính trọng số attention\n",
    "    weights = softmax(scores)\n",
    "    # Tổ hợp tuyến tính với V\n",
    "    output = np.matmul(weights, V)\n",
    "    return output, weights\n",
    "\n"
   ]
  },
  {
   "cell_type": "code",
   "execution_count": 4,
   "id": "1a35c59d",
   "metadata": {},
   "outputs": [
    {
     "data": {
      "text/plain": [
       "2"
      ]
     },
     "execution_count": 4,
     "metadata": {},
     "output_type": "execute_result"
    }
   ],
   "source": [
    "q = np.random.randn(3, 2)\n",
    "q.shape\n",
    "q.shape[1]"
   ]
  },
  {
   "cell_type": "code",
   "execution_count": 8,
   "id": "d07e9c34",
   "metadata": {},
   "outputs": [
    {
     "name": "stdout",
     "output_type": "stream",
     "text": [
      "matrix1:\n",
      "[[ 0.91803786  1.33468034]\n",
      " [ 1.61058011 -0.0389854 ]\n",
      " [ 0.9648097   0.07329329]]\n",
      "matrix2:\n",
      "[[ 0.13218212 -0.16805987  0.24882833  0.15038597]\n",
      " [-0.57862431 -0.54385326 -0.67723334 -1.29144218]]\n",
      "matrix3:\n",
      "[[-0.6509303  -0.88015558 -0.6754562  -1.58560247]\n",
      " [ 0.2354478  -0.24947154  0.42716018  0.29255605]\n",
      " [ 0.08512131 -0.20200659  0.19043533  0.0504398 ]]\n"
     ]
    }
   ],
   "source": [
    "matrix1 = np.random.randn(3,2)\n",
    "matrix2 = np.random.randn(2,4)\n",
    "matrix3 = np.matmul(matrix1, matrix2)\n",
    "print(f\"matrix1:\\n{matrix1}\\nmatrix2:\\n{matrix2}\\nmatrix3:\\n{matrix3}\")"
   ]
  },
  {
   "cell_type": "markdown",
   "id": "f0bee414",
   "metadata": {},
   "source": [
    "Xử lý input"
   ]
  },
  {
   "cell_type": "code",
   "execution_count": 18,
   "id": "b2c2a96c",
   "metadata": {},
   "outputs": [],
   "source": [
    "input = \"I love NLP\"\n",
    "# Tạo các tokens\n",
    "tokens = input.split()\n",
    "# kích thước embedding\n",
    "d_model = 4\n",
    "# Tạo embedding cho tất cả các từ trong vocab\n",
    "embedding_matrix = np.random.randn(len(vocab), d_model)\n",
    "# Lấy embedding của các từ trong input\n",
    "X = np.array([embedding_matrix[vocab[token]] for token in tokens])"
   ]
  },
  {
   "cell_type": "code",
   "execution_count": 24,
   "id": "fa4b078b",
   "metadata": {},
   "outputs": [
    {
     "name": "stdout",
     "output_type": "stream",
     "text": [
      "Các tokens từ input:['I', 'love', 'NLP']\n",
      "Ma trận embeddings của input:\n",
      "[[-1.22853542  0.03819077  0.17830988 -1.04599879]\n",
      " [-0.68366229  0.76152901  0.37678591 -1.52470116]\n",
      " [ 0.53124668  0.58300333  0.13463916 -1.0122585 ]]\n",
      "\n",
      "Ma trận embeddings của vocab:\n",
      "[[-1.22853542e+00  3.81907672e-02  1.78309882e-01 -1.04599879e+00]\n",
      " [ 1.07587593e+00  5.50192265e-01  9.84862577e-01 -2.02896108e+00]\n",
      " [ 5.31246675e-01  5.83003331e-01  1.34639165e-01 -1.01225850e+00]\n",
      " [ 5.37751068e-01 -2.43157439e-01 -2.10053844e-01  3.44645072e-01]\n",
      " [ 3.29295182e-01 -8.76292435e-01  1.90284798e+00 -3.57668819e-01]\n",
      " [ 1.09155808e+00 -6.17995268e-01 -1.04692143e+00 -1.68485412e+00]\n",
      " [-8.23082036e-04 -5.75349939e-01 -2.93742997e+00  5.64622999e-01]\n",
      " [-2.53203834e-02  4.91033857e-01  7.06015783e-01 -4.51073793e-01]\n",
      " [-1.18636163e+00 -2.61088787e-01 -1.31245941e+00 -3.41492087e-01]\n",
      " [-9.84490886e-01 -9.05494366e-02 -1.76094763e+00  2.66056023e+00]\n",
      " [-6.29507618e-01  9.31553086e-01 -9.08698990e-01 -8.31635101e-01]\n",
      " [ 6.21421614e-01  5.39039353e-01 -1.08574546e+00  1.57776540e-01]\n",
      " [-6.54500349e-01  5.05766348e-01  6.41491275e-01 -2.74450426e-01]\n",
      " [ 5.28805792e-01  1.66186203e+00  3.96066329e-01  1.22613578e+00]\n",
      " [-1.38897843e+00  5.52882203e-01 -8.40586693e-01  1.17778042e+00]\n",
      " [ 3.44771441e-01 -2.93684210e+00  1.13828430e+00  5.54063380e-01]\n",
      " [-3.27584697e-01 -1.14341803e-01 -7.28301860e-02  7.44337233e-01]\n",
      " [-2.08692784e+00  1.54175571e-01  1.79934520e-01  1.46003621e+00]\n",
      " [-6.33220578e-01 -3.37499830e-03  9.47755572e-01  1.88042632e+00]\n",
      " [-4.90851104e-01  2.02319150e+00  3.87974968e-01 -4.01420624e-01]\n",
      " [ 6.95008410e-01  9.92878588e-01 -3.98937221e-01 -2.83318142e-01]\n",
      " [ 1.33366590e+00 -6.11386874e-01  9.92864341e-02  1.93709765e+00]\n",
      " [ 6.31961811e-01 -7.20150381e-01  2.06977625e-01  7.13768978e-01]\n",
      " [-5.15879616e-01 -2.05853649e+00  9.81558923e-02 -1.21948948e-02]\n",
      " [ 1.07969417e-01 -2.46748345e-01  4.49364634e-01 -4.12579830e-01]\n",
      " [ 1.77121073e-01 -2.51944095e-01 -6.62070498e-01 -8.52895385e-01]\n",
      " [ 8.29934979e-01  9.40099383e-01  2.31101293e+00 -1.34817847e+00]\n",
      " [-6.83662288e-01  7.61529008e-01  3.76785913e-01 -1.52470116e+00]\n",
      " [ 8.16636891e-01  1.56028337e-01  8.40765747e-01  1.65200270e-01]\n",
      " [-5.25783813e-02 -5.02043002e-02 -1.34218968e+00  5.34411758e-01]\n",
      " [ 1.00049719e-01 -9.56240388e-01  2.28565563e+00  6.35294345e-02]\n",
      " [ 3.34280104e-01  5.35766595e-01 -5.64079697e-01  7.52539178e-01]\n",
      " [ 1.62594065e+00 -7.73986891e-01 -1.09315426e+00 -1.08989427e+00]\n",
      " [ 6.53953517e-01  2.06111600e-01 -3.56464070e-01  2.38286512e-01]\n",
      " [-7.41329004e-01  8.99256994e-01 -5.49724904e-01 -7.50084746e-02]\n",
      " [ 1.78146427e+00 -1.01376744e+00  1.50428419e-01 -4.06542750e-02]\n",
      " [ 6.17485738e-01  5.98425037e-01 -3.55075696e-01 -1.25600412e+00]\n",
      " [-5.95068476e-01  9.27882135e-01 -1.87476526e+00 -3.37047269e-01]\n",
      " [-1.66300640e+00  2.51157606e+00 -4.44753864e-01 -9.46660696e-01]\n",
      " [ 7.94305158e-01 -4.38484513e-01  1.03872833e+00  1.07054669e+00]\n",
      " [-1.29153030e+00 -1.04917078e+00  3.25951170e-01 -5.71996741e-01]\n",
      " [-8.79877080e-02 -8.35422127e-01 -5.72649178e-01  2.58569304e+00]\n",
      " [ 1.64684465e+00  1.39230253e+00 -6.07834148e-01  9.71451746e-01]]\n"
     ]
    }
   ],
   "source": [
    "print(f\"Các tokens từ input:{tokens}\")\n",
    "print(f\"Ma trận embeddings của input:\\n{X}\\n\")\n",
    "print(f\"Ma trận embeddings của vocab:\\n{embedding_matrix}\")"
   ]
  },
  {
   "cell_type": "code",
   "execution_count": null,
   "id": "6989736c",
   "metadata": {},
   "outputs": [],
   "source": [
    "# Khởi tạo 3 ma trận query, key và value\n",
    "W_Q = np.random.randn(d_model, d_model)\n",
    "W_K = np.random.randn(d_model, d_model)\n",
    "W_V = np.random.randn(d_model, d_model)\n",
    "Q = np.matmul(X, W_Q)\n",
    "K = np.matmul(X, W_K)\n",
    "V = np.matmul(X, W_V)"
   ]
  },
  {
   "cell_type": "code",
   "execution_count": 28,
   "id": "9964fd6c",
   "metadata": {},
   "outputs": [
    {
     "name": "stdout",
     "output_type": "stream",
     "text": [
      "Ma trận query Q:\n",
      "[[-1.18576376  0.11915334 -0.17607655 -1.41910106]\n",
      " [-0.30805472  2.03866776  1.08077087 -1.52660935]\n",
      " [ 0.45034429  1.76594178  2.05207215  0.23599913]]\n",
      "Ma trận key K:\n",
      "[[ 0.33817901  0.86102341  2.60664518  0.58419291]\n",
      " [-0.42065747 -0.12934273  0.44547502 -0.20023977]\n",
      " [-0.96276848 -0.7852896  -1.35788857 -0.9417376 ]]\n",
      "Ma trận value V:\n",
      "[[ 0.60631719 -0.94991571  1.25436063  2.06484468]\n",
      " [-0.5627526  -0.54890609  2.55033553  0.79151612]\n",
      " [-1.0056897  -0.24148932  1.54858382 -0.99923429]]\n"
     ]
    }
   ],
   "source": [
    "print(f\"Ma trận query Q:\\n{Q}\")\n",
    "print(f\"Ma trận key K:\\n{K}\")\n",
    "print(f\"Ma trận value V:\\n{V}\")"
   ]
  },
  {
   "cell_type": "code",
   "execution_count": 29,
   "id": "cec50518",
   "metadata": {},
   "outputs": [
    {
     "name": "stdout",
     "output_type": "stream",
     "text": [
      "Ma trận embeddings mới của từng từ biểu diễn thêm ngữ cảnh:\n",
      "[[-0.7628135  -0.37676414  1.77824813 -0.29744167]\n",
      " [ 0.29562483 -0.83321547  1.50154328  1.6412237 ]\n",
      " [ 0.56311643 -0.93472356  1.29866405  2.01464758]]\n",
      "Ma trận trọng số (softmax):\n",
      "[[0.08112458 0.25308971 0.66578571]\n",
      " [0.75891916 0.17594287 0.06513798]\n",
      " [0.96395728 0.03363988 0.00240284]]\n"
     ]
    }
   ],
   "source": [
    "output, attention_weights = scaled_dot_product_attention(Q, K, V)\n",
    "print(f\"Ma trận embeddings mới của từng từ biểu diễn thêm ngữ cảnh:\\n{output}\")\n",
    "print(f\"Ma trận trọng số (softmax):\\n{attention_weights}\")"
   ]
  },
  {
   "cell_type": "markdown",
   "id": "b12e711c",
   "metadata": {},
   "source": [
    "Từ ma trận trọng số (softmax): \n",
    "\n",
    "    \"I\" chú ý nhiều nhất vào \"NLP\"\n",
    "\n",
    "    \"love\" chú ý nhiều nhất vào \"I\"\n",
    "\n",
    "    \"NLP\" chú ý nhiều nhất vào \"I\""
   ]
  }
 ],
 "metadata": {
  "kernelspec": {
   "display_name": "duong_kernel_2",
   "language": "python",
   "name": "duong_kernel_2"
  },
  "language_info": {
   "codemirror_mode": {
    "name": "ipython",
    "version": 3
   },
   "file_extension": ".py",
   "mimetype": "text/x-python",
   "name": "python",
   "nbconvert_exporter": "python",
   "pygments_lexer": "ipython3",
   "version": "3.10.0"
  }
 },
 "nbformat": 4,
 "nbformat_minor": 5
}
